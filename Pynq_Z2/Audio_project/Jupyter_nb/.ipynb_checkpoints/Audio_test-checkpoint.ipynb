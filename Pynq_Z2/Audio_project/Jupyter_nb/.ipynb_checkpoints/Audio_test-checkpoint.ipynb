{
 "cells": [
  {
   "cell_type": "markdown",
   "metadata": {},
   "source": [
    "# Load the overlay"
   ]
  },
  {
   "cell_type": "code",
   "execution_count": 120,
   "metadata": {},
   "outputs": [
    {
     "name": "stderr",
     "output_type": "stream",
     "text": [
      "/usr/local/lib/python3.6/dist-packages/pynq/overlay.py:691: UserWarning: Interrupt irq not created: Could not find UIO device for interrupt pin for IRQ number 62\n",
      "  interrupt, str(e)))\n",
      "/usr/local/lib/python3.6/dist-packages/pynq/overlay.py:691: UserWarning: Interrupt irq not created: Could not find UIO device for interrupt pin for IRQ number 63\n",
      "  interrupt, str(e)))\n"
     ]
    }
   ],
   "source": [
    "from pynq import Overlay\n",
    "\n",
    "overlay = Overlay('/home/xilinx/pynq/overlays/User_overlay/Audio_test.bit')\n",
    "\n",
    "i2s_RX=overlay.Audio_controller.i2s_audio_stream.i2s_receiver_0\n",
    "i2s_TX=overlay.Audio_controller.i2s_audio_stream.i2s_transmitter_0\n",
    "MUX_sel=overlay.Audio_controller.mux_sel"
   ]
  },
  {
   "cell_type": "markdown",
   "metadata": {},
   "source": [
    "# Read test\n",
    "Axi protocol for I2S RX and TX\n",
    "* Reg 0x00 --> Version\n",
    "* Reg 0x04 --> Configuration (Read only)\n",
    "* Reg 0x08 --> Enable(0x09)/Disable(0x08)\n",
    "\n",
    "Go to Logic Core resurces from Xilinx for more info"
   ]
  },
  {
   "cell_type": "code",
   "execution_count": 121,
   "metadata": {},
   "outputs": [
    {
     "data": {
      "text/plain": [
       "'0x10201'"
      ]
     },
     "execution_count": 121,
     "metadata": {},
     "output_type": "execute_result"
    }
   ],
   "source": [
    "value=i2s_RX.read(0x04)\n",
    "hex(value)"
   ]
  },
  {
   "cell_type": "code",
   "execution_count": 122,
   "metadata": {},
   "outputs": [
    {
     "data": {
      "text/plain": [
       "'0x10200'"
      ]
     },
     "execution_count": 122,
     "metadata": {},
     "output_type": "execute_result"
    }
   ],
   "source": [
    "value=i2s_TX.read(0x04)\n",
    "hex(value)"
   ]
  },
  {
   "cell_type": "markdown",
   "metadata": {},
   "source": [
    "# Various imports"
   ]
  },
  {
   "cell_type": "code",
   "execution_count": 123,
   "metadata": {},
   "outputs": [],
   "source": [
    "import pynq\n",
    "from pynq import GPIO\n",
    "import pynq.lib\n",
    "import pynq.lib.video\n",
    "import pynq.lib.audio\n",
    "import cffi\n",
    "from pynq import PL\n",
    "from pynq import GPIO\n",
    "from pynq.uio import get_uio_index"
   ]
  },
  {
   "cell_type": "code",
   "execution_count": 124,
   "metadata": {},
   "outputs": [],
   "source": [
    "#define the audio codec\n",
    "pAudio=overlay.Audio_controller.audio_codec_ctrl_0"
   ]
  },
  {
   "cell_type": "code",
   "execution_count": 125,
   "metadata": {},
   "outputs": [],
   "source": [
    "#Configure the audio codec\n",
    "pAudio.configure(sample_rate=96000)\n",
    "pAudio.set_volume(35)\n",
    "pAudio.select_line_in()"
   ]
  },
  {
   "cell_type": "code",
   "execution_count": 160,
   "metadata": {},
   "outputs": [],
   "source": [
    "#test\n",
    "pAudio.bypass(5)"
   ]
  },
  {
   "cell_type": "markdown",
   "metadata": {},
   "source": [
    "# I2S module functions"
   ]
  },
  {
   "cell_type": "code",
   "execution_count": 127,
   "metadata": {},
   "outputs": [],
   "source": [
    "def config_TX_i2s(En=True):\n",
    "    #if sample_rate == 48000:\n",
    "        #i2s_TX.write(0x20,0x04)\n",
    "    #elif sample_rate == 96000:\n",
    "        #i2s_TX.write(0x20,0x02)\n",
    "    #else:\n",
    "        #i2s_TX.write(0x20,0x04)\n",
    "    if En:\n",
    "        i2s_TX.write(0x08,0x09)\n",
    "    else:\n",
    "        i2s_TX.write(0x08,0x08)"
   ]
  },
  {
   "cell_type": "code",
   "execution_count": 147,
   "metadata": {},
   "outputs": [],
   "source": [
    "def config_RX_i2s(sample_rate=48000, En=True):\n",
    "    if sample_rate == 48000:\n",
    "        i2s_RX.write(0x20,0x04)\n",
    "    elif sample_rate == 96000:\n",
    "        i2s_RX.write(0x20,0x02)\n",
    "    else:\n",
    "        i2s_RX.write(0x20,0x04)\n",
    "    for i in range(6):\n",
    "        i2s_RX.write(0x50+i*4,0x00)\n",
    "    if En:\n",
    "        i2s_RX.write(0x08,0x09)\n",
    "    else:\n",
    "        i2s_RX.write(0x08,0x08)"
   ]
  },
  {
   "cell_type": "markdown",
   "metadata": {},
   "source": [
    "# Enable continuous bypass from audio codec"
   ]
  },
  {
   "cell_type": "code",
   "execution_count": 129,
   "metadata": {},
   "outputs": [],
   "source": [
    "def continuous_bypass(En=True, volume=30):\n",
    "    if volume > 63:\n",
    "        volume=63\n",
    "    if volume < 0:\n",
    "        volume=0\n",
    "    if En:\n",
    "        #overlay.mux_sel.write(0,0)\n",
    "        pAudio.write_audio_REG(0x1D,0x00)\n",
    "        pAudio.write_audio_REG(0x1F,0x00)\n",
    "        pAudio.write_audio_REG(0x1C,0x21)\n",
    "        pAudio.write_audio_REG(0x1E,0x41)\n",
    "        reg_vol=volume<< 2 |0x3\n",
    "        pAudio.write_audio_REG(0x23,reg_vol)\n",
    "        pAudio.write_audio_REG(0x24,reg_vol)\n",
    "        #overlay.mux_sel.write(0,1)\n",
    "    else:\n",
    "        pAudio.write_audio_REG(0x1D,0x00)\n",
    "        pAudio.write_audio_REG(0x1F,0x00)\n",
    "        pAudio.write_audio_REG(0x1C,0x00)\n",
    "        pAudio.write_audio_REG(0x1E,0x00)\n",
    "        pAudio.write_audio_REG(0x23,0xE5)\n",
    "        pAudio.write_audio_REG(0x24,0xE5)\n",
    "        #overlay.mux_sel.write(0,0)"
   ]
  },
  {
   "cell_type": "code",
   "execution_count": 170,
   "metadata": {},
   "outputs": [],
   "source": [
    "continuous_bypass(False,0)"
   ]
  },
  {
   "cell_type": "code",
   "execution_count": 167,
   "metadata": {},
   "outputs": [],
   "source": [
    "continuous_bypass(True,40)"
   ]
  },
  {
   "cell_type": "code",
   "execution_count": 164,
   "metadata": {},
   "outputs": [],
   "source": [
    "MUX_sel.write(0x0,0x01)"
   ]
  },
  {
   "cell_type": "code",
   "execution_count": 171,
   "metadata": {},
   "outputs": [],
   "source": [
    "config_RX_i2s(96000,False)\n",
    "config_TX_i2s(False)"
   ]
  },
  {
   "cell_type": "code",
   "execution_count": null,
   "metadata": {},
   "outputs": [],
   "source": [
    "config_RX_i2s(96000,True)\n",
    "config_TX_i2s(True)"
   ]
  },
  {
   "cell_type": "code",
   "execution_count": 150,
   "metadata": {},
   "outputs": [],
   "source": [
    "config_RX_i2s(48000,True)\n",
    "config_TX_i2s(True)"
   ]
  },
  {
   "cell_type": "code",
   "execution_count": 163,
   "metadata": {},
   "outputs": [],
   "source": [
    "pAudio.write_audio_REG(0x14,0x00)"
   ]
  },
  {
   "cell_type": "code",
   "execution_count": 169,
   "metadata": {},
   "outputs": [
    {
     "name": "stdout",
     "output_type": "stream",
     "text": [
      "0x0\n",
      "0x0\n"
     ]
    }
   ],
   "source": [
    "reg_val=0\n",
    "for i in range(6):\n",
    "    value=i2s_RX.read(0x50+i*4)\n",
    "    reg_val=reg_val << 16 | value\n",
    "print(hex(reg_val))\n",
    "reg_val=0\n",
    "for i in range(6):\n",
    "    value=i2s_TX.read(0x50+i*4)\n",
    "    reg_val=reg_val << 16 | value\n",
    "print(hex(reg_val))"
   ]
  },
  {
   "cell_type": "code",
   "execution_count": 168,
   "metadata": {},
   "outputs": [
    {
     "data": {
      "text/plain": [
       "1"
      ]
     },
     "execution_count": 168,
     "metadata": {},
     "output_type": "execute_result"
    }
   ],
   "source": [
    "MUX_sel.read()"
   ]
  },
  {
   "cell_type": "code",
   "execution_count": null,
   "metadata": {},
   "outputs": [],
   "source": []
  }
 ],
 "metadata": {
  "kernelspec": {
   "display_name": "Python 3",
   "language": "python",
   "name": "python3"
  },
  "language_info": {
   "codemirror_mode": {
    "name": "ipython",
    "version": 3
   },
   "file_extension": ".py",
   "mimetype": "text/x-python",
   "name": "python",
   "nbconvert_exporter": "python",
   "pygments_lexer": "ipython3",
   "version": "3.9.0"
  }
 },
 "nbformat": 4,
 "nbformat_minor": 4
}
