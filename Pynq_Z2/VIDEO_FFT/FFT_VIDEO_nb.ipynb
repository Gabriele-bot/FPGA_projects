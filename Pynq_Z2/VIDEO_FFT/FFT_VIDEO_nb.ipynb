{
 "cells": [
  {
   "cell_type": "markdown",
   "metadata": {},
   "source": [
    "# Load the overlay"
   ]
  },
  {
   "cell_type": "code",
   "execution_count": 277,
   "metadata": {},
   "outputs": [
    {
     "name": "stderr",
     "output_type": "stream",
     "text": [
      "/usr/local/lib/python3.6/dist-packages/pynq/overlay.py:691: UserWarning: Interrupt irq not created: Could not find UIO device for interrupt pin for IRQ number 62\n",
      "  interrupt, str(e)))\n",
      "/usr/local/lib/python3.6/dist-packages/pynq/overlay.py:691: UserWarning: Interrupt irq not created: Could not find UIO device for interrupt pin for IRQ number 63\n",
      "  interrupt, str(e)))\n"
     ]
    }
   ],
   "source": [
    "from pynq import Overlay\n",
    "\n",
    "#overlay = Overlay('/home/xilinx/pynq/overlays/User_overlay/Audio_test.bit')\n",
    "#overlay = Overlay('/home/xilinx/pynq/overlays/User_overlay/AUDIO_test_4.bit')\n",
    "overlay = Overlay('/home/xilinx/pynq/overlays/User_overlay/FFT_VIDEO_BRAM_TEST.bit')\n",
    "\n",
    "i2s_RX=overlay.Audio_controller.i2s_audio_stream.i2s_receiver_0\n",
    "i2s_TX=overlay.Audio_controller.i2s_audio_stream.i2s_transmitter_0\n",
    "MUX_sel=overlay.Audio_controller.mux_sel"
   ]
  },
  {
   "cell_type": "markdown",
   "metadata": {},
   "source": [
    "# Read test\n",
    "Axi protocol for I2S RX and TX\n",
    "* Reg 0x00 --> Version\n",
    "* Reg 0x04 --> Configuration (Read only)\n",
    "* Reg 0x08 --> Enable(0x09)/Disable(0x08)\n",
    "\n",
    "Go to Logic Core resurces from Xilinx for more info"
   ]
  },
  {
   "cell_type": "code",
   "execution_count": 392,
   "metadata": {},
   "outputs": [
    {
     "name": "stdout",
     "output_type": "stream",
     "text": [
      "RX version = 0x10000\n",
      "RX configuration = 0x10201\n"
     ]
    }
   ],
   "source": [
    "value=i2s_RX.read(0x00)\n",
    "print(\"RX version = \" + hex(value))\n",
    "value=i2s_RX.read(0x04)\n",
    "print(\"RX configuration = \" + hex(value))"
   ]
  },
  {
   "cell_type": "code",
   "execution_count": 393,
   "metadata": {},
   "outputs": [
    {
     "name": "stdout",
     "output_type": "stream",
     "text": [
      "TX version = 0x10000\n",
      "TX configuration = 0x10200\n"
     ]
    }
   ],
   "source": [
    "value=i2s_TX.read(0x00)\n",
    "print(\"TX version = \" + hex(value))\n",
    "value=i2s_TX.read(0x04)\n",
    "print(\"TX configuration = \" + hex(value))"
   ]
  },
  {
   "cell_type": "markdown",
   "metadata": {},
   "source": [
    "# Library import"
   ]
  },
  {
   "cell_type": "code",
   "execution_count": 280,
   "metadata": {},
   "outputs": [],
   "source": [
    "import pynq\n",
    "from pynq import GPIO\n",
    "import pynq.lib\n",
    "import pynq.lib.video\n",
    "import pynq.lib.audio\n",
    "import cffi\n",
    "from pynq import PL\n",
    "from pynq import GPIO\n",
    "from pynq.uio import get_uio_index"
   ]
  },
  {
   "cell_type": "code",
   "execution_count": 281,
   "metadata": {},
   "outputs": [],
   "source": [
    "#define the audio codec\n",
    "pAudio=overlay.Audio_controller.audio_codec_ctrl_0"
   ]
  },
  {
   "cell_type": "code",
   "execution_count": 282,
   "metadata": {},
   "outputs": [],
   "source": [
    "pAudio.configure()\n",
    "pAudio.set_volume(60)\n",
    "pAudio.select_line_in()"
   ]
  },
  {
   "cell_type": "code",
   "execution_count": 283,
   "metadata": {},
   "outputs": [],
   "source": [
    "#Configure the audio codec\n",
    "pAudio.configure(sample_rate=96000)\n",
    "pAudio.set_volume(60)\n",
    "pAudio.select_line_in()"
   ]
  },
  {
   "cell_type": "code",
   "execution_count": 284,
   "metadata": {},
   "outputs": [],
   "source": [
    "#test\n",
    "#pAudio.bypass(10)"
   ]
  },
  {
   "cell_type": "markdown",
   "metadata": {},
   "source": [
    "# I2S module functions"
   ]
  },
  {
   "cell_type": "code",
   "execution_count": 285,
   "metadata": {},
   "outputs": [],
   "source": [
    "def config_TX_i2s(En=True):\n",
    "    #if sample_rate == 48000:\n",
    "        #i2s_TX.write(0x20,0x04)\n",
    "    #elif sample_rate == 96000:\n",
    "        #i2s_TX.write(0x20,0x02)\n",
    "    #else:\n",
    "        #i2s_TX.write(0x20,0x04)\n",
    "    if En:\n",
    "        i2s_TX.write(0x08,0x09)\n",
    "    else:\n",
    "        i2s_TX.write(0x08,0x08)"
   ]
  },
  {
   "cell_type": "code",
   "execution_count": 286,
   "metadata": {},
   "outputs": [],
   "source": [
    "def config_RX_i2s(sample_rate=48000, En=True):\n",
    "    if sample_rate == 48000:\n",
    "        i2s_RX.write(0x20,0x04)\n",
    "    elif sample_rate == 96000:\n",
    "        i2s_RX.write(0x20,0x02)\n",
    "    else:\n",
    "        i2s_RX.write(0x20,0x04)\n",
    "    for i in range(6):\n",
    "        i2s_RX.write(0x50+i*4,0x00)\n",
    "    if En:\n",
    "        i2s_RX.write(0x08,0x09)\n",
    "    else:\n",
    "        i2s_RX.write(0x08,0x08)"
   ]
  },
  {
   "cell_type": "markdown",
   "metadata": {},
   "source": [
    "# Enable continuous bypass from audio codec"
   ]
  },
  {
   "cell_type": "code",
   "execution_count": 287,
   "metadata": {},
   "outputs": [],
   "source": [
    "def continuous_bypass(En=True, volume=30):\n",
    "    if volume > 63:\n",
    "        volume=63\n",
    "    if volume < 0:\n",
    "        volume=0\n",
    "    if En:\n",
    "        #overlay.mux_sel.write(0,0)\n",
    "        pAudio.write_audio_REG(0x1D,0x00)\n",
    "        pAudio.write_audio_REG(0x1F,0x00)\n",
    "        pAudio.write_audio_REG(0x1C,0x21)\n",
    "        pAudio.write_audio_REG(0x1E,0x41)\n",
    "        reg_vol=volume<< 2 |0x3\n",
    "        pAudio.write_audio_REG(0x23,reg_vol)\n",
    "        pAudio.write_audio_REG(0x24,reg_vol)\n",
    "        #overlay.mux_sel.write(0,1)\n",
    "    else:\n",
    "        pAudio.write_audio_REG(0x1D,0x00)\n",
    "        pAudio.write_audio_REG(0x1F,0x00)\n",
    "        pAudio.write_audio_REG(0x1C,0x00)\n",
    "        pAudio.write_audio_REG(0x1E,0x00)\n",
    "        pAudio.write_audio_REG(0x23,0xE5)\n",
    "        pAudio.write_audio_REG(0x24,0xE5)\n",
    "        #overlay.mux_sel.write(0,0)"
   ]
  },
  {
   "cell_type": "markdown",
   "metadata": {},
   "source": [
    "## FFT scaling"
   ]
  },
  {
   "cell_type": "code",
   "execution_count": 288,
   "metadata": {},
   "outputs": [],
   "source": [
    "import time\n",
    "\n",
    "config_TX_i2s(False)\n",
    "config_RX_i2s(96000,False)\n",
    "\n",
    "continuous_bypass(False,0)\n",
    "\n",
    "sch=0b000001010110\n",
    "overlay.HDMI_FFT_LR.AXI_FFT_CTRL.write(0,0b10000000000000001 | sch<<1)\n",
    "#overlay.axi_gpio_0.write(0,0b10000011111111111)\n",
    "#overlay.axi_gpio_0.write(0,0b10000000000000000)\n",
    "time.sleep(0.01)\n",
    "overlay.HDMI_FFT_LR.AXI_FFT_CTRL.write(0,0b00000000000000001 | sch<<1)\n",
    "#overlay.axi_gpio_0.write(0,0b00000011111111111)\n",
    "#overlay.axi_gpio_0.write(0,0b00000000000000000)"
   ]
  },
  {
   "cell_type": "code",
   "execution_count": 289,
   "metadata": {},
   "outputs": [],
   "source": [
    "continuous_bypass(False,0)"
   ]
  },
  {
   "cell_type": "code",
   "execution_count": 290,
   "metadata": {},
   "outputs": [],
   "source": [
    "continuous_bypass(True,31)"
   ]
  },
  {
   "cell_type": "code",
   "execution_count": 291,
   "metadata": {},
   "outputs": [],
   "source": [
    "MUX_sel.write(0x0,0x01)"
   ]
  },
  {
   "cell_type": "code",
   "execution_count": 292,
   "metadata": {},
   "outputs": [],
   "source": [
    "config_RX_i2s(96000,False)\n",
    "config_TX_i2s(False)"
   ]
  },
  {
   "cell_type": "code",
   "execution_count": 293,
   "metadata": {},
   "outputs": [],
   "source": [
    "config_RX_i2s(96000,True)\n",
    "config_TX_i2s(True)"
   ]
  },
  {
   "cell_type": "markdown",
   "metadata": {},
   "source": [
    "## Windowing\n",
    "To reduce spectral leakage a windowing is performed, the function can be selected or computed. After that the array is transferred to the dual port RAM in the PL in wchich the multiplication will be performed."
   ]
  },
  {
   "cell_type": "code",
   "execution_count": 307,
   "metadata": {},
   "outputs": [],
   "source": [
    "from pynq import MMIO\n",
    "\n",
    "IP_BASE_ADDRESS = overlay.HDMI_FFT_LR.axi_bram_ctrl_0.mmio.base_addr\n",
    "ADDRESS_RANGE   = 0x2000\n",
    "\n",
    "mmio = MMIO(IP_BASE_ADDRESS, ADDRESS_RANGE)"
   ]
  },
  {
   "cell_type": "code",
   "execution_count": 389,
   "metadata": {},
   "outputs": [
    {
     "data": {
      "image/png": "[encoded data removed]",
      "text/plain": [
       "<matplotlib.figure.Figure at 0xad478f10>"
      ]
     },
     "metadata": {},
     "output_type": "display_data"
    }
   ],
   "source": [
    "import numpy as np\n",
    "import matplotlib.pyplot as plt\n",
    "\n",
    "x = np.linspace(0,2047,2048)\n",
    "data_window    = np.cos(np.pi*(x-1024)/2047)**2\n",
    "Hann_window    = np.asarray((2**16-1)*data_window, dtype=np.int32)\n",
    "\n",
    "data_window    = 0.54+0.46*np.cos((2*np.pi*(x-1024))/(2047))\n",
    "Hamming_window = np.asarray((2**16-1)*data_window, dtype=np.int32)\n",
    "\n",
    "data_window    = np.cos((np.pi*(x-1024))/(2047))\n",
    "Cosine_window  = np.asarray((2**16-1)*data_window, dtype=np.int32)\n",
    "\n",
    "data_window    = np.exp(-(((x-1024)/2047)**2)/(0.09))\n",
    "Gauss_window  = np.asarray((2**16-1)*data_window, dtype=np.int32)\n",
    "\n",
    "No_window      = np.asarray((2**16-1)*np.ones(2048), dtype=np.int32)\n",
    "\n",
    "plt.plot(x,Hamming_window/65535, label='Hamming')\n",
    "plt.plot(x,Hann_window/65535,    label='Hann'   )\n",
    "plt.plot(x,Cosine_window/65535,  label='Cosine' )\n",
    "plt.plot(x,Gauss_window/65535,   label='Gauss'  )\n",
    "plt.plot(x,No_window/65535,      label='Natural')\n",
    "\n",
    "plt.grid(True)\n",
    "plt.legend()\n",
    "plt.show()"
   ]
  },
  {
   "cell_type": "code",
   "execution_count": 395,
   "metadata": {},
   "outputs": [],
   "source": [
    "for i in range(2048):\n",
    "    mmio.write(i<<2,int(Hamming_window[i]))"
   ]
  },
  {
   "cell_type": "code",
   "execution_count": null,
   "metadata": {},
   "outputs": [],
   "source": []
  }
 ],
 "metadata": {
  "kernelspec": {
   "display_name": "Python 3",
   "language": "python",
   "name": "python3"
  },
  "language_info": {
   "codemirror_mode": {
    "name": "ipython",
    "version": 3
   },
   "file_extension": ".py",
   "mimetype": "text/x-python",
   "name": "python",
   "nbconvert_exporter": "python",
   "pygments_lexer": "ipython3",
   "version": "3.6.5"
  }
 },
 "nbformat": 4,
 "nbformat_minor": 2
}
